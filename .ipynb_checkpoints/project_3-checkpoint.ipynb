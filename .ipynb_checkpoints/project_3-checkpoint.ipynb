{
 "cells": [
  {
   "cell_type": "code",
   "execution_count": 1,
   "metadata": {},
   "outputs": [],
   "source": [
    "import requests\n",
    "import pandas as pd\n",
    "import random\n",
    "import nltk\n",
    "import regex as re\n",
    "from sklearn.pipeline import Pipeline\n",
    "from sklearn.linear_model import LogisticRegression\n",
    "from nltk.corpus import stopwords\n",
    "from nltk.tokenize import RegexpTokenizer\n",
    "from nltk import word_tokenize\n",
    "from sklearn.feature_extraction.text import CountVectorizer, TfidfVectorizer\n",
    "from nltk.stem import WordNetLemmatizer\n",
    "from nltk.stem.porter import PorterStemmer\n",
    "from sklearn.model_selection import train_test_split,GridSearchCV\n",
    "from sklearn.naive_bayes import MultinomialNB"
   ]
  },
  {
   "cell_type": "code",
   "execution_count": 2,
   "metadata": {},
   "outputs": [
    {
     "name": "stdout",
     "output_type": "stream",
     "text": [
      "<class 'pandas.core.frame.DataFrame'>\n",
      "Int64Index: 1818 entries, 0 to 961\n",
      "Data columns (total 2 columns):\n",
      "selftext    1818 non-null object\n",
      "label       1818 non-null object\n",
      "dtypes: object(2)\n",
      "memory usage: 42.6+ KB\n"
     ]
    }
   ],
   "source": [
    "diet = pd.read_csv('diet.csv')\n",
    "love = pd.read_csv('love.csv')\n",
    "\n",
    "# adding the labels column\n",
    "diet['label'] = 'diet'\n",
    "love['label'] = 'love'\n",
    "\n",
    "# joining the data sets\n",
    "data = pd.concat([diet,love],sort=False)\n",
    "\n",
    "# using the useful columns only\n",
    "data = data[['selftext','label']]\n",
    "\n",
    "data.dropna(subset=['selftext'], inplace=True)\n",
    "\n",
    "data.info()"
   ]
  },
  {
   "cell_type": "code",
   "execution_count": 3,
   "metadata": {},
   "outputs": [
    {
     "data": {
      "text/html": [
       "<div>\n",
       "<style scoped>\n",
       "    .dataframe tbody tr th:only-of-type {\n",
       "        vertical-align: middle;\n",
       "    }\n",
       "\n",
       "    .dataframe tbody tr th {\n",
       "        vertical-align: top;\n",
       "    }\n",
       "\n",
       "    .dataframe thead th {\n",
       "        text-align: right;\n",
       "    }\n",
       "</style>\n",
       "<table border=\"1\" class=\"dataframe\">\n",
       "  <thead>\n",
       "    <tr style=\"text-align: right;\">\n",
       "      <th></th>\n",
       "      <th>selftext</th>\n",
       "      <th>label</th>\n",
       "    </tr>\n",
       "  </thead>\n",
       "  <tbody>\n",
       "    <tr>\n",
       "      <th>0</th>\n",
       "      <td>Hi I’m a female (22 year old) i wouldn’t call ...</td>\n",
       "      <td>0</td>\n",
       "    </tr>\n",
       "    <tr>\n",
       "      <th>1</th>\n",
       "      <td>Hi,\\n\\nI'm an 18-year-old female. When I was 1...</td>\n",
       "      <td>0</td>\n",
       "    </tr>\n",
       "    <tr>\n",
       "      <th>2</th>\n",
       "      <td>I know a lot of losing weight is what you eat ...</td>\n",
       "      <td>0</td>\n",
       "    </tr>\n",
       "    <tr>\n",
       "      <th>3</th>\n",
       "      <td>Here some backstory. I’m 17 and about 100 poun...</td>\n",
       "      <td>0</td>\n",
       "    </tr>\n",
       "    <tr>\n",
       "      <th>5</th>\n",
       "      <td>I just can never get satisfied until i feel full</td>\n",
       "      <td>0</td>\n",
       "    </tr>\n",
       "  </tbody>\n",
       "</table>\n",
       "</div>"
      ],
      "text/plain": [
       "                                            selftext  label\n",
       "0  Hi I’m a female (22 year old) i wouldn’t call ...      0\n",
       "1  Hi,\\n\\nI'm an 18-year-old female. When I was 1...      0\n",
       "2  I know a lot of losing weight is what you eat ...      0\n",
       "3  Here some backstory. I’m 17 and about 100 poun...      0\n",
       "5   I just can never get satisfied until i feel full      0"
      ]
     },
     "execution_count": 3,
     "metadata": {},
     "output_type": "execute_result"
    }
   ],
   "source": [
    "data['label'] = data['label'].map({'diet':0,'love':1})\n",
    "data.head()"
   ]
  },
  {
   "cell_type": "code",
   "execution_count": 4,
   "metadata": {},
   "outputs": [],
   "source": [
    "# remove line splitters\n",
    "data['selftext'].replace(to_replace='\\n',value=' ',inplace=True,regex=True)\n",
    "data['selftext'].replace(to_replace='/',value=' ',inplace=True,regex=True)\n",
    "\n",
    "# change to lower case\n",
    "data['selftext'] = data['selftext'].str.lower()\n",
    "\n",
    "# remove punctuation\n",
    "data['selftext'].replace(to_replace=r'[^\\w\\s]',value='',regex=True,inplace=True)"
   ]
  },
  {
   "cell_type": "code",
   "execution_count": 5,
   "metadata": {},
   "outputs": [],
   "source": [
    "# tokenize the reddit comments\n",
    "data['selftext'] = data['selftext'].apply(word_tokenize)"
   ]
  },
  {
   "cell_type": "code",
   "execution_count": 6,
   "metadata": {},
   "outputs": [],
   "source": [
    "#remove stop words\n",
    "add = ['im','hi','ive','hey','wouldnt','love','diet']\n",
    "to_remove = (stopwords.words(\"english\"))+add\n",
    "data['selftext'] = data['selftext'].apply(lambda x: [item for item in x if item not in to_remove])"
   ]
  },
  {
   "cell_type": "code",
   "execution_count": 25,
   "metadata": {},
   "outputs": [
    {
     "name": "stdout",
     "output_type": "stream",
     "text": [
      "['i', 'me', 'my', 'myself', 'we', 'our', 'ours', 'ourselves', 'you', \"you're\", \"you've\", \"you'll\", \"you'd\", 'your', 'yours', 'yourself', 'yourselves', 'he', 'him', 'his', 'himself', 'she', \"she's\", 'her', 'hers', 'herself', 'it', \"it's\", 'its', 'itself', 'they', 'them', 'their', 'theirs', 'themselves', 'what', 'which', 'who', 'whom', 'this', 'that', \"that'll\", 'these', 'those', 'am', 'is', 'are', 'was', 'were', 'be', 'been', 'being', 'have', 'has', 'had', 'having', 'do', 'does', 'did', 'doing', 'a', 'an', 'the', 'and', 'but', 'if', 'or', 'because', 'as', 'until', 'while', 'of', 'at', 'by', 'for', 'with', 'about', 'against', 'between', 'into', 'through', 'during', 'before', 'after', 'above', 'below', 'to', 'from', 'up', 'down', 'in', 'out', 'on', 'off', 'over', 'under', 'again', 'further', 'then', 'once', 'here', 'there', 'when', 'where', 'why', 'how', 'all', 'any', 'both', 'each', 'few', 'more', 'most', 'other', 'some', 'such', 'no', 'nor', 'not', 'only', 'own', 'same', 'so', 'than', 'too', 'very', 's', 't', 'can', 'will', 'just', 'don', \"don't\", 'should', \"should've\", 'now', 'd', 'll', 'm', 'o', 're', 've', 'y', 'ain', 'aren', \"aren't\", 'couldn', \"couldn't\", 'didn', \"didn't\", 'doesn', \"doesn't\", 'hadn', \"hadn't\", 'hasn', \"hasn't\", 'haven', \"haven't\", 'isn', \"isn't\", 'ma', 'mightn', \"mightn't\", 'mustn', \"mustn't\", 'needn', \"needn't\", 'shan', \"shan't\", 'shouldn', \"shouldn't\", 'wasn', \"wasn't\", 'weren', \"weren't\", 'won', \"won't\", 'wouldn', \"wouldn't\", 'im', 'hi', 'ive', 'hey', 'wouldnt', 'love', 'diet']\n"
     ]
    }
   ],
   "source": [
    "print(to_remove)"
   ]
  },
  {
   "cell_type": "code",
   "execution_count": 7,
   "metadata": {},
   "outputs": [
    {
     "data": {
      "text/plain": [
       "0    female 22 year old call overweight 54 kg heigh...\n",
       "1    18yearold female 15 half started counting calo...\n",
       "2    know lot losing weight eat much exactly sure e...\n",
       "3    backstory 17 100 pounds overweight currently g...\n",
       "5                        never get satisfied feel full\n",
       "Name: selftext, dtype: object"
      ]
     },
     "execution_count": 7,
     "metadata": {},
     "output_type": "execute_result"
    }
   ],
   "source": [
    "#joining the tokenized words to strings\n",
    "data['selftext']=data['selftext'].apply(' '.join)\n",
    "data['selftext'].head()"
   ]
  },
  {
   "cell_type": "code",
   "execution_count": 8,
   "metadata": {},
   "outputs": [
    {
     "data": {
      "text/html": [
       "<div>\n",
       "<style scoped>\n",
       "    .dataframe tbody tr th:only-of-type {\n",
       "        vertical-align: middle;\n",
       "    }\n",
       "\n",
       "    .dataframe tbody tr th {\n",
       "        vertical-align: top;\n",
       "    }\n",
       "\n",
       "    .dataframe thead th {\n",
       "        text-align: right;\n",
       "    }\n",
       "</style>\n",
       "<table border=\"1\" class=\"dataframe\">\n",
       "  <thead>\n",
       "    <tr style=\"text-align: right;\">\n",
       "      <th></th>\n",
       "      <th>selftext</th>\n",
       "      <th>label</th>\n",
       "    </tr>\n",
       "  </thead>\n",
       "  <tbody>\n",
       "    <tr>\n",
       "      <th>0</th>\n",
       "      <td>[female, 22, year, old, call, overweight, 54, ...</td>\n",
       "      <td>0</td>\n",
       "    </tr>\n",
       "    <tr>\n",
       "      <th>1</th>\n",
       "      <td>[18yearold, female, 15, half, started, countin...</td>\n",
       "      <td>0</td>\n",
       "    </tr>\n",
       "    <tr>\n",
       "      <th>2</th>\n",
       "      <td>[know, lot, losing, weight, eat, much, exactly...</td>\n",
       "      <td>0</td>\n",
       "    </tr>\n",
       "    <tr>\n",
       "      <th>3</th>\n",
       "      <td>[backstory, 17, 100, pound, overweight, curren...</td>\n",
       "      <td>0</td>\n",
       "    </tr>\n",
       "    <tr>\n",
       "      <th>5</th>\n",
       "      <td>[never, get, satisfied, feel, full]</td>\n",
       "      <td>0</td>\n",
       "    </tr>\n",
       "    <tr>\n",
       "      <th>6</th>\n",
       "      <td>[barely, underweight, looking, good, help, pac...</td>\n",
       "      <td>0</td>\n",
       "    </tr>\n",
       "    <tr>\n",
       "      <th>7</th>\n",
       "      <td>[small, change, made, really, easy, stick, rea...</td>\n",
       "      <td>0</td>\n",
       "    </tr>\n",
       "    <tr>\n",
       "      <th>8</th>\n",
       "      <td>[eating, healthy, 6, month, gained, around, 45...</td>\n",
       "      <td>0</td>\n",
       "    </tr>\n",
       "    <tr>\n",
       "      <th>11</th>\n",
       "      <td>[17f, wanting, change, there, point, eating, c...</td>\n",
       "      <td>0</td>\n",
       "    </tr>\n",
       "    <tr>\n",
       "      <th>12</th>\n",
       "      <td>[beginning, involves, counting, calorie, using...</td>\n",
       "      <td>0</td>\n",
       "    </tr>\n",
       "    <tr>\n",
       "      <th>13</th>\n",
       "      <td>[guy, 35, yo, male, looking, lose, weight, cal...</td>\n",
       "      <td>0</td>\n",
       "    </tr>\n",
       "    <tr>\n",
       "      <th>14</th>\n",
       "      <td>[tried, several, appetite, suppressant, drug, ...</td>\n",
       "      <td>0</td>\n",
       "    </tr>\n",
       "    <tr>\n",
       "      <th>15</th>\n",
       "      <td>[59, 210, pound, man, looking, drop, 175, star...</td>\n",
       "      <td>0</td>\n",
       "    </tr>\n",
       "    <tr>\n",
       "      <th>16</th>\n",
       "      <td>[looking, advice, average, daily, meal, plan, ...</td>\n",
       "      <td>0</td>\n",
       "    </tr>\n",
       "    <tr>\n",
       "      <th>17</th>\n",
       "      <td>[trying, lose, weight, lately, feel, better, b...</td>\n",
       "      <td>0</td>\n",
       "    </tr>\n",
       "    <tr>\n",
       "      <th>18</th>\n",
       "      <td>[25f, trying, lose, weight, far, successful, 1...</td>\n",
       "      <td>0</td>\n",
       "    </tr>\n",
       "    <tr>\n",
       "      <th>19</th>\n",
       "      <td>[recently, working, moving, dinner, 8, 9pm, 6,...</td>\n",
       "      <td>0</td>\n",
       "    </tr>\n",
       "    <tr>\n",
       "      <th>20</th>\n",
       "      <td>[54, 105, ish, lb, feel, skinny, although, eat...</td>\n",
       "      <td>0</td>\n",
       "    </tr>\n",
       "    <tr>\n",
       "      <th>21</th>\n",
       "      <td>[didnt, write, article, wish, everyone, would,...</td>\n",
       "      <td>0</td>\n",
       "    </tr>\n",
       "    <tr>\n",
       "      <th>22</th>\n",
       "      <td>[http, youtube, bkgvfsi2s_ghttps, youtube, bkg...</td>\n",
       "      <td>0</td>\n",
       "    </tr>\n",
       "    <tr>\n",
       "      <th>23</th>\n",
       "      <td>[consuming, extreme, amount, sugar, various, c...</td>\n",
       "      <td>0</td>\n",
       "    </tr>\n",
       "    <tr>\n",
       "      <th>24</th>\n",
       "      <td>[choose, classic, program, meal, delivery, wei...</td>\n",
       "      <td>0</td>\n",
       "    </tr>\n",
       "    <tr>\n",
       "      <th>25</th>\n",
       "      <td>[16, 56, 165ish, lb, tried, various, diet, end...</td>\n",
       "      <td>0</td>\n",
       "    </tr>\n",
       "    <tr>\n",
       "      <th>26</th>\n",
       "      <td>[recently, trying, live, healthier, lifestyle,...</td>\n",
       "      <td>0</td>\n",
       "    </tr>\n",
       "    <tr>\n",
       "      <th>27</th>\n",
       "      <td>[20f, past, year, terrible, relationship, food...</td>\n",
       "      <td>0</td>\n",
       "    </tr>\n",
       "    <tr>\n",
       "      <th>28</th>\n",
       "      <td>[since, start, high, protein, sugar, done, fan...</td>\n",
       "      <td>0</td>\n",
       "    </tr>\n",
       "    <tr>\n",
       "      <th>29</th>\n",
       "      <td>[want, start, eating, simple, food, meal, repl...</td>\n",
       "      <td>0</td>\n",
       "    </tr>\n",
       "    <tr>\n",
       "      <th>30</th>\n",
       "      <td>[lost, weight, got, realy, leanwhich, great, a...</td>\n",
       "      <td>0</td>\n",
       "    </tr>\n",
       "    <tr>\n",
       "      <th>31</th>\n",
       "      <td>[trying, eat, le, meat, chicken, substitute, t...</td>\n",
       "      <td>0</td>\n",
       "    </tr>\n",
       "    <tr>\n",
       "      <th>32</th>\n",
       "      <td>[everyone, nutshell, used, great, shape, year,...</td>\n",
       "      <td>0</td>\n",
       "    </tr>\n",
       "    <tr>\n",
       "      <th>...</th>\n",
       "      <td>...</td>\n",
       "      <td>...</td>\n",
       "    </tr>\n",
       "    <tr>\n",
       "      <th>928</th>\n",
       "      <td>[yeeeessss]</td>\n",
       "      <td>1</td>\n",
       "    </tr>\n",
       "    <tr>\n",
       "      <th>929</th>\n",
       "      <td>[soo, 14, year, old, still, middleschool, frie...</td>\n",
       "      <td>1</td>\n",
       "    </tr>\n",
       "    <tr>\n",
       "      <th>930</th>\n",
       "      <td>[dating, guy, 2, month, think, falling, never,...</td>\n",
       "      <td>1</td>\n",
       "    </tr>\n",
       "    <tr>\n",
       "      <th>931</th>\n",
       "      <td>[alright, backstory, dated, guy, year, broke, ...</td>\n",
       "      <td>1</td>\n",
       "    </tr>\n",
       "    <tr>\n",
       "      <th>932</th>\n",
       "      <td>[like, fire, play, sombody, get, hurt]</td>\n",
       "      <td>1</td>\n",
       "    </tr>\n",
       "    <tr>\n",
       "      <th>933</th>\n",
       "      <td>[definition]</td>\n",
       "      <td>1</td>\n",
       "    </tr>\n",
       "    <tr>\n",
       "      <th>934</th>\n",
       "      <td>[today, final, exam, prepared, wake, 3, hour, ...</td>\n",
       "      <td>1</td>\n",
       "    </tr>\n",
       "    <tr>\n",
       "      <th>935</th>\n",
       "      <td>[one, favourite, people, world, funny, sweet, ...</td>\n",
       "      <td>1</td>\n",
       "    </tr>\n",
       "    <tr>\n",
       "      <th>936</th>\n",
       "      <td>[cant, even, describe, grateful, boyfriend, jo...</td>\n",
       "      <td>1</td>\n",
       "    </tr>\n",
       "    <tr>\n",
       "      <th>937</th>\n",
       "      <td>[always, wanted, life, moment, understood, bas...</td>\n",
       "      <td>1</td>\n",
       "    </tr>\n",
       "    <tr>\n",
       "      <th>938</th>\n",
       "      <td>[girlfriend, much, weve, together, year, absol...</td>\n",
       "      <td>1</td>\n",
       "    </tr>\n",
       "    <tr>\n",
       "      <th>939</th>\n",
       "      <td>[got, ta, learn, else, saying, whole, cant, so...</td>\n",
       "      <td>1</td>\n",
       "    </tr>\n",
       "    <tr>\n",
       "      <th>940</th>\n",
       "      <td>[guy, exstatic, whenever, talk, fun, time, sin...</td>\n",
       "      <td>1</td>\n",
       "    </tr>\n",
       "    <tr>\n",
       "      <th>941</th>\n",
       "      <td>[first, felt, young, teen, ever, since, emotio...</td>\n",
       "      <td>1</td>\n",
       "    </tr>\n",
       "    <tr>\n",
       "      <th>942</th>\n",
       "      <td>[type, dating, site, five, 5, year, went, 20, ...</td>\n",
       "      <td>1</td>\n",
       "    </tr>\n",
       "    <tr>\n",
       "      <th>943</th>\n",
       "      <td>[go, even, better, person, ever, could, imagin...</td>\n",
       "      <td>1</td>\n",
       "    </tr>\n",
       "    <tr>\n",
       "      <th>944</th>\n",
       "      <td>[dont, know, writing, looking, anything, curre...</td>\n",
       "      <td>1</td>\n",
       "    </tr>\n",
       "    <tr>\n",
       "      <th>946</th>\n",
       "      <td>[talking, remember, many, time, told, much, su...</td>\n",
       "      <td>1</td>\n",
       "    </tr>\n",
       "    <tr>\n",
       "      <th>947</th>\n",
       "      <td>[burped, girlfriend, mouth, didnt, leave, shes...</td>\n",
       "      <td>1</td>\n",
       "    </tr>\n",
       "    <tr>\n",
       "      <th>948</th>\n",
       "      <td>[ok, there, girl, really, really, like, feel, ...</td>\n",
       "      <td>1</td>\n",
       "    </tr>\n",
       "    <tr>\n",
       "      <th>950</th>\n",
       "      <td>[mean, youre, effectively, going, crazy, girl,...</td>\n",
       "      <td>1</td>\n",
       "    </tr>\n",
       "    <tr>\n",
       "      <th>951</th>\n",
       "      <td>[friend, year, good, memory, time, last, six, ...</td>\n",
       "      <td>1</td>\n",
       "    </tr>\n",
       "    <tr>\n",
       "      <th>952</th>\n",
       "      <td>[really, like, girl, shes, girl, dated, 3, hal...</td>\n",
       "      <td>1</td>\n",
       "    </tr>\n",
       "    <tr>\n",
       "      <th>953</th>\n",
       "      <td>[new, year, ago, got, severely, abusive, relat...</td>\n",
       "      <td>1</td>\n",
       "    </tr>\n",
       "    <tr>\n",
       "      <th>954</th>\n",
       "      <td>[psa, didnt, tell, bought, necklace, plan, tel...</td>\n",
       "      <td>1</td>\n",
       "    </tr>\n",
       "    <tr>\n",
       "      <th>955</th>\n",
       "      <td>[dear, person, crush, nearly, best, friend, un...</td>\n",
       "      <td>1</td>\n",
       "    </tr>\n",
       "    <tr>\n",
       "      <th>956</th>\n",
       "      <td>[first, date, sweep, foot, step, finding, get,...</td>\n",
       "      <td>1</td>\n",
       "    </tr>\n",
       "    <tr>\n",
       "      <th>957</th>\n",
       "      <td>[two, long, term, relationship, third, one, on...</td>\n",
       "      <td>1</td>\n",
       "    </tr>\n",
       "    <tr>\n",
       "      <th>958</th>\n",
       "      <td>[strong, feeling, towards, someone, call, love...</td>\n",
       "      <td>1</td>\n",
       "    </tr>\n",
       "    <tr>\n",
       "      <th>961</th>\n",
       "      <td>[apologize, english, first, language, problem,...</td>\n",
       "      <td>1</td>\n",
       "    </tr>\n",
       "  </tbody>\n",
       "</table>\n",
       "<p>1818 rows × 2 columns</p>\n",
       "</div>"
      ],
      "text/plain": [
       "                                              selftext  label\n",
       "0    [female, 22, year, old, call, overweight, 54, ...      0\n",
       "1    [18yearold, female, 15, half, started, countin...      0\n",
       "2    [know, lot, losing, weight, eat, much, exactly...      0\n",
       "3    [backstory, 17, 100, pound, overweight, curren...      0\n",
       "5                  [never, get, satisfied, feel, full]      0\n",
       "6    [barely, underweight, looking, good, help, pac...      0\n",
       "7    [small, change, made, really, easy, stick, rea...      0\n",
       "8    [eating, healthy, 6, month, gained, around, 45...      0\n",
       "11   [17f, wanting, change, there, point, eating, c...      0\n",
       "12   [beginning, involves, counting, calorie, using...      0\n",
       "13   [guy, 35, yo, male, looking, lose, weight, cal...      0\n",
       "14   [tried, several, appetite, suppressant, drug, ...      0\n",
       "15   [59, 210, pound, man, looking, drop, 175, star...      0\n",
       "16   [looking, advice, average, daily, meal, plan, ...      0\n",
       "17   [trying, lose, weight, lately, feel, better, b...      0\n",
       "18   [25f, trying, lose, weight, far, successful, 1...      0\n",
       "19   [recently, working, moving, dinner, 8, 9pm, 6,...      0\n",
       "20   [54, 105, ish, lb, feel, skinny, although, eat...      0\n",
       "21   [didnt, write, article, wish, everyone, would,...      0\n",
       "22   [http, youtube, bkgvfsi2s_ghttps, youtube, bkg...      0\n",
       "23   [consuming, extreme, amount, sugar, various, c...      0\n",
       "24   [choose, classic, program, meal, delivery, wei...      0\n",
       "25   [16, 56, 165ish, lb, tried, various, diet, end...      0\n",
       "26   [recently, trying, live, healthier, lifestyle,...      0\n",
       "27   [20f, past, year, terrible, relationship, food...      0\n",
       "28   [since, start, high, protein, sugar, done, fan...      0\n",
       "29   [want, start, eating, simple, food, meal, repl...      0\n",
       "30   [lost, weight, got, realy, leanwhich, great, a...      0\n",
       "31   [trying, eat, le, meat, chicken, substitute, t...      0\n",
       "32   [everyone, nutshell, used, great, shape, year,...      0\n",
       "..                                                 ...    ...\n",
       "928                                        [yeeeessss]      1\n",
       "929  [soo, 14, year, old, still, middleschool, frie...      1\n",
       "930  [dating, guy, 2, month, think, falling, never,...      1\n",
       "931  [alright, backstory, dated, guy, year, broke, ...      1\n",
       "932             [like, fire, play, sombody, get, hurt]      1\n",
       "933                                       [definition]      1\n",
       "934  [today, final, exam, prepared, wake, 3, hour, ...      1\n",
       "935  [one, favourite, people, world, funny, sweet, ...      1\n",
       "936  [cant, even, describe, grateful, boyfriend, jo...      1\n",
       "937  [always, wanted, life, moment, understood, bas...      1\n",
       "938  [girlfriend, much, weve, together, year, absol...      1\n",
       "939  [got, ta, learn, else, saying, whole, cant, so...      1\n",
       "940  [guy, exstatic, whenever, talk, fun, time, sin...      1\n",
       "941  [first, felt, young, teen, ever, since, emotio...      1\n",
       "942  [type, dating, site, five, 5, year, went, 20, ...      1\n",
       "943  [go, even, better, person, ever, could, imagin...      1\n",
       "944  [dont, know, writing, looking, anything, curre...      1\n",
       "946  [talking, remember, many, time, told, much, su...      1\n",
       "947  [burped, girlfriend, mouth, didnt, leave, shes...      1\n",
       "948  [ok, there, girl, really, really, like, feel, ...      1\n",
       "950  [mean, youre, effectively, going, crazy, girl,...      1\n",
       "951  [friend, year, good, memory, time, last, six, ...      1\n",
       "952  [really, like, girl, shes, girl, dated, 3, hal...      1\n",
       "953  [new, year, ago, got, severely, abusive, relat...      1\n",
       "954  [psa, didnt, tell, bought, necklace, plan, tel...      1\n",
       "955  [dear, person, crush, nearly, best, friend, un...      1\n",
       "956  [first, date, sweep, foot, step, finding, get,...      1\n",
       "957  [two, long, term, relationship, third, one, on...      1\n",
       "958  [strong, feeling, towards, someone, call, love...      1\n",
       "961  [apologize, english, first, language, problem,...      1\n",
       "\n",
       "[1818 rows x 2 columns]"
      ]
     },
     "execution_count": 8,
     "metadata": {},
     "output_type": "execute_result"
    }
   ],
   "source": [
    "# lemmatize words\n",
    "lemmatizer = WordNetLemmatizer()\n",
    "\n",
    "def lemmatize_text(text):\n",
    "    return [lemmatizer.lemmatize(w) for w in word_tokenize(text)]\n",
    "\n",
    "data['selftext'] = data['selftext'].apply(lemmatize_text)\n",
    "data"
   ]
  },
  {
   "cell_type": "code",
   "execution_count": 9,
   "metadata": {},
   "outputs": [
    {
     "data": {
      "text/plain": [
       "0    0.514851\n",
       "1    0.485149\n",
       "Name: label, dtype: float64"
      ]
     },
     "execution_count": 9,
     "metadata": {},
     "output_type": "execute_result"
    }
   ],
   "source": [
    "# calculate baseline accuracy\n",
    "data['label'].value_counts(normalize=True)"
   ]
  },
  {
   "cell_type": "code",
   "execution_count": 10,
   "metadata": {},
   "outputs": [],
   "source": [
    "#joining the tokenized words to strings\n",
    "data['selftext']=data['selftext'].apply(' '.join)"
   ]
  },
  {
   "cell_type": "code",
   "execution_count": 11,
   "metadata": {},
   "outputs": [
    {
     "data": {
      "text/plain": [
       "eat        727\n",
       "weight     692\n",
       "day        687\n",
       "food       474\n",
       "like       461\n",
       "eating     459\n",
       "calorie    412\n",
       "meal       363\n",
       "get        363\n",
       "time       341\n",
       "fat        332\n",
       "dont       327\n",
       "week       322\n",
       "would      293\n",
       "help       281\n",
       "know       278\n",
       "lose       263\n",
       "also       260\n",
       "want       260\n",
       "much       260\n",
       "dtype: int64"
      ]
     },
     "execution_count": 11,
     "metadata": {},
     "output_type": "execute_result"
    }
   ],
   "source": [
    "# top 20 words in 'diet' based on frequency\n",
    "data[data['label'] == 0].selftext.str.split(expand=True).stack().value_counts().head(20)"
   ]
  },
  {
   "cell_type": "code",
   "execution_count": 12,
   "metadata": {},
   "outputs": [
    {
     "data": {
      "text/plain": [
       "like       1043\n",
       "know        903\n",
       "time        802\n",
       "feel        746\n",
       "dont        731\n",
       "want        724\n",
       "one         617\n",
       "never       604\n",
       "thing       523\n",
       "life        512\n",
       "day         501\n",
       "would       485\n",
       "make        473\n",
       "much        470\n",
       "even        457\n",
       "get         455\n",
       "friend      453\n",
       "feeling     452\n",
       "really      449\n",
       "someone     426\n",
       "dtype: int64"
      ]
     },
     "execution_count": 12,
     "metadata": {},
     "output_type": "execute_result"
    }
   ],
   "source": [
    "# top 20 words in 'love' based on frequency\n",
    "data[data['label'] == 1].selftext.str.split(expand=True).stack().value_counts().head(20)"
   ]
  },
  {
   "cell_type": "code",
   "execution_count": 13,
   "metadata": {},
   "outputs": [],
   "source": [
    "X = data['selftext']\n",
    "y = data['label']\n",
    "X_train, X_test, y_train, y_test = train_test_split(X, y, stratify=y, random_state=42, shuffle = True)"
   ]
  },
  {
   "cell_type": "code",
   "execution_count": 14,
   "metadata": {},
   "outputs": [],
   "source": [
    "# using Tfidf and Naive Bayes Multinomial Classifier\n",
    "pipe = Pipeline([\n",
    "    ('tvec', TfidfVectorizer()),\n",
    "    ('cls', MultinomialNB())\n",
    "])"
   ]
  },
  {
   "cell_type": "code",
   "execution_count": 15,
   "metadata": {},
   "outputs": [
    {
     "name": "stdout",
     "output_type": "stream",
     "text": [
      "0.9757887013939839\n"
     ]
    },
    {
     "data": {
      "text/plain": [
       "{'tvec__max_df': 0.9,\n",
       " 'tvec__max_features': 2500,\n",
       " 'tvec__min_df': 0.02,\n",
       " 'tvec__ngram_range': (1, 1)}"
      ]
     },
     "execution_count": 15,
     "metadata": {},
     "output_type": "execute_result"
    }
   ],
   "source": [
    "# obtaining the best values for Tfidf vertorizer\n",
    "pipe_params = {\n",
    "    'tvec__max_features': [2500, 3000, 3500],\n",
    "    'tvec__min_df': [0.02, 0.04,0.06],\n",
    "    'tvec__max_df': [.9, .95],\n",
    "    'tvec__ngram_range': [(1,1), (1,2),(1,3),(1,4)]\n",
    "}\n",
    "gs = GridSearchCV(pipe, param_grid=pipe_params,cv=3)\n",
    "gs.fit(X_train, y_train)\n",
    "print(gs.best_score_)\n",
    "gs.best_params_"
   ]
  },
  {
   "cell_type": "code",
   "execution_count": 16,
   "metadata": {},
   "outputs": [
    {
     "data": {
      "text/plain": [
       "0.97505502567865"
      ]
     },
     "execution_count": 16,
     "metadata": {},
     "output_type": "execute_result"
    }
   ],
   "source": [
    "gs.score(X_train,y_train)"
   ]
  },
  {
   "cell_type": "code",
   "execution_count": 17,
   "metadata": {},
   "outputs": [
    {
     "data": {
      "text/plain": [
       "0.967032967032967"
      ]
     },
     "execution_count": 17,
     "metadata": {},
     "output_type": "execute_result"
    }
   ],
   "source": [
    "gs.score(X_test,y_test)"
   ]
  },
  {
   "cell_type": "code",
   "execution_count": 29,
   "metadata": {},
   "outputs": [],
   "source": [
    "# using count vectorizer and logistic regression\n",
    "pipe = Pipeline([\n",
    "    ('cvec', CountVectorizer()),\n",
    "    ('lr', LogisticRegression(solver='liblinear'))\n",
    "])"
   ]
  },
  {
   "cell_type": "code",
   "execution_count": 30,
   "metadata": {},
   "outputs": [
    {
     "name": "stdout",
     "output_type": "stream",
     "text": [
      "0.9581804842259721\n"
     ]
    },
    {
     "data": {
      "text/plain": [
       "{'cvec__max_df': 0.9,\n",
       " 'cvec__max_features': 2500,\n",
       " 'cvec__min_df': 0.02,\n",
       " 'cvec__ngram_range': (1, 1)}"
      ]
     },
     "execution_count": 30,
     "metadata": {},
     "output_type": "execute_result"
    }
   ],
   "source": [
    "# obtaining the best values for count vectorizer\n",
    "pipe_params = {\n",
    "    'cvec__max_features': [2500, 3000, 3500],\n",
    "    'cvec__min_df': [0.02, 0.04,0.06],\n",
    "    'cvec__max_df': [.9, .95],\n",
    "    'cvec__ngram_range': [(1,1), (1,2),(1,3),(1,4)]\n",
    "}\n",
    "gs = GridSearchCV(pipe, param_grid=pipe_params,cv=3)\n",
    "gs.fit(X_train, y_train)\n",
    "print(gs.best_score_)\n",
    "gs.best_params_"
   ]
  },
  {
   "cell_type": "code",
   "execution_count": 31,
   "metadata": {},
   "outputs": [
    {
     "data": {
      "text/plain": [
       "0.9904622157006603"
      ]
     },
     "execution_count": 31,
     "metadata": {},
     "output_type": "execute_result"
    }
   ],
   "source": [
    "gs.score(X_train,y_train)"
   ]
  },
  {
   "cell_type": "code",
   "execution_count": 32,
   "metadata": {},
   "outputs": [
    {
     "data": {
      "text/plain": [
       "0.9538461538461539"
      ]
     },
     "execution_count": 32,
     "metadata": {},
     "output_type": "execute_result"
    }
   ],
   "source": [
    "gs.score(X_test,y_test)"
   ]
  },
  {
   "cell_type": "code",
   "execution_count": null,
   "metadata": {},
   "outputs": [],
   "source": []
  }
 ],
 "metadata": {
  "kernelspec": {
   "display_name": "Python 3",
   "language": "python",
   "name": "python3"
  },
  "language_info": {
   "codemirror_mode": {
    "name": "ipython",
    "version": 3
   },
   "file_extension": ".py",
   "mimetype": "text/x-python",
   "name": "python",
   "nbconvert_exporter": "python",
   "pygments_lexer": "ipython3",
   "version": "3.7.3"
  }
 },
 "nbformat": 4,
 "nbformat_minor": 2
}
